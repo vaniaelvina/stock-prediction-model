{
 "cells": [
  {
   "cell_type": "markdown",
   "id": "24709190",
   "metadata": {},
   "source": [
    "### Stock Price Prediction Model"
   ]
  },
  {
   "cell_type": "markdown",
   "id": "c5d39d9f",
   "metadata": {},
   "source": [
    "#### Project Background\n",
    "Stock price prediction is a significant area of interest in financial markets. It involves using historical price data and machine learning techniques to forecast future stock prices. Accurate predictions can help investors make informed decisions and potentially increase returns on investment.\n",
    "\n",
    "#### Objectives\n",
    "- Train a model to forecast future prices.\n",
    "- Demonstrate data preprocessing, feature engineering, model building, and evaluation."
   ]
  },
  {
   "cell_type": "code",
   "execution_count": 16,
   "id": "d216f6b9",
   "metadata": {},
   "outputs": [],
   "source": [
    "# import libraries\n",
    "import pandas as pd\n",
    "import numpy as np\n",
    "import matplotlib.pyplot as plt\n",
    "import seaborn as sns\n",
    "from sklearn.model_selection import train_test_split\n",
    "from sklearn.preprocessing import MinMaxScaler\n",
    "from sklearn.linear_model import LinearRegression\n",
    "from sklearn.ensemble import RandomForestRegressor\n",
    "from sklearn.svm import SVR\n",
    "from sklearn.tree import DecisionTreeRegressor\n",
    "from sklearn.metrics import mean_squared_error, r2_score"
   ]
  },
  {
   "cell_type": "code",
   "execution_count": 17,
   "id": "e7f9389b",
   "metadata": {},
   "outputs": [
    {
     "data": {
      "text/html": [
       "<div>\n",
       "<style scoped>\n",
       "    .dataframe tbody tr th:only-of-type {\n",
       "        vertical-align: middle;\n",
       "    }\n",
       "\n",
       "    .dataframe tbody tr th {\n",
       "        vertical-align: top;\n",
       "    }\n",
       "\n",
       "    .dataframe thead th {\n",
       "        text-align: right;\n",
       "    }\n",
       "</style>\n",
       "<table border=\"1\" class=\"dataframe\">\n",
       "  <thead>\n",
       "    <tr style=\"text-align: right;\">\n",
       "      <th></th>\n",
       "      <th>Date</th>\n",
       "      <th>Price</th>\n",
       "      <th>Open</th>\n",
       "      <th>High</th>\n",
       "      <th>Low</th>\n",
       "      <th>Vol.</th>\n",
       "      <th>Change %</th>\n",
       "    </tr>\n",
       "  </thead>\n",
       "  <tbody>\n",
       "    <tr>\n",
       "      <th>0</th>\n",
       "      <td>01/16/2025</td>\n",
       "      <td>9,800</td>\n",
       "      <td>9,875</td>\n",
       "      <td>9,925</td>\n",
       "      <td>9,800</td>\n",
       "      <td>21.74M</td>\n",
       "      <td>0.00%</td>\n",
       "    </tr>\n",
       "    <tr>\n",
       "      <th>1</th>\n",
       "      <td>01/15/2025</td>\n",
       "      <td>9,800</td>\n",
       "      <td>9,575</td>\n",
       "      <td>9,800</td>\n",
       "      <td>9,550</td>\n",
       "      <td>77.10M</td>\n",
       "      <td>2.89%</td>\n",
       "    </tr>\n",
       "    <tr>\n",
       "      <th>2</th>\n",
       "      <td>01/14/2025</td>\n",
       "      <td>9,525</td>\n",
       "      <td>9,600</td>\n",
       "      <td>9,725</td>\n",
       "      <td>9,525</td>\n",
       "      <td>70.94M</td>\n",
       "      <td>-1.55%</td>\n",
       "    </tr>\n",
       "    <tr>\n",
       "      <th>3</th>\n",
       "      <td>01/13/2025</td>\n",
       "      <td>9,675</td>\n",
       "      <td>9,625</td>\n",
       "      <td>9,725</td>\n",
       "      <td>9,625</td>\n",
       "      <td>88.27M</td>\n",
       "      <td>-0.51%</td>\n",
       "    </tr>\n",
       "    <tr>\n",
       "      <th>4</th>\n",
       "      <td>01/10/2025</td>\n",
       "      <td>9,725</td>\n",
       "      <td>9,800</td>\n",
       "      <td>9,925</td>\n",
       "      <td>9,725</td>\n",
       "      <td>72.53M</td>\n",
       "      <td>-1.27%</td>\n",
       "    </tr>\n",
       "  </tbody>\n",
       "</table>\n",
       "</div>"
      ],
      "text/plain": [
       "         Date  Price   Open   High    Low    Vol. Change %\n",
       "0  01/16/2025  9,800  9,875  9,925  9,800  21.74M    0.00%\n",
       "1  01/15/2025  9,800  9,575  9,800  9,550  77.10M    2.89%\n",
       "2  01/14/2025  9,525  9,600  9,725  9,525  70.94M   -1.55%\n",
       "3  01/13/2025  9,675  9,625  9,725  9,625  88.27M   -0.51%\n",
       "4  01/10/2025  9,725  9,800  9,925  9,725  72.53M   -1.27%"
      ]
     },
     "metadata": {},
     "output_type": "display_data"
    }
   ],
   "source": [
    "#load dataset\n",
    "data_url = 'bbca.csv'  # Replace with actual dataset URL or file path\n",
    "try:\n",
    "    data = pd.read_csv(data_url)\n",
    "except Exception as e:\n",
    "    print(f\"Error loading dataset: {e}\")\n",
    "    data = pd.DataFrame()  # Placeholder in case the file isn't available\n",
    "\n",
    "# Preview the dataset\n",
    "if not data.empty:\n",
    "    display(data.head())\n",
    "else:\n",
    "    print(\"Dataset is empty or unavailable.\")"
   ]
  },
  {
   "cell_type": "code",
   "execution_count": 18,
   "id": "12014338",
   "metadata": {},
   "outputs": [
    {
     "name": "stdout",
     "output_type": "stream",
     "text": [
      "Basic Statistics:\n",
      "              Date  Price   Open   High    Low    Vol. Change %\n",
      "count           20     20     20     20     20      20       20\n",
      "unique          20     10     13     12     13      20       16\n",
      "top     01/16/2025  9,675  9,800  9,925  9,725  21.74M   -1.55%\n",
      "freq             1      5      3      3      3       1        2\n",
      "\n",
      "Missing Values:\n",
      "Date        0\n",
      "Price       0\n",
      "Open        0\n",
      "High        0\n",
      "Low         0\n",
      "Vol.        0\n",
      "Change %    0\n",
      "dtype: int64\n"
     ]
    },
    {
     "data": {
      "image/png": "[encoded data removed]",
      "text/plain": [
       "<Figure size 432x288 with 1 Axes>"
      ]
     },
     "metadata": {
      "needs_background": "light"
     },
     "output_type": "display_data"
    }
   ],
   "source": [
    "# exploratory data analysis\n",
    "if not data.empty:\n",
    "    print(\"Basic Statistics:\")\n",
    "    print(data.describe())\n",
    "    \n",
    "    print(\"\\nMissing Values:\")\n",
    "    print(data.isnull().sum())\n",
    "\n",
    "    # Visualize the data\n",
    "    sns.lineplot(x=data.index, y='Price', data=data)\n",
    "    plt.title('Stock Closing Prices Over Time')\n",
    "    plt.xlabel('Time')\n",
    "    plt.ylabel('Closing Price')\n",
    "    plt.show()"
   ]
  },
  {
   "cell_type": "code",
   "execution_count": 19,
   "id": "bef69375",
   "metadata": {},
   "outputs": [],
   "source": [
    "# data cleansing\n",
    "if not data.empty:\n",
    "    # Handle missing values\n",
    "    data.fillna(method='ffill', inplace=True)\n",
    "\n",
    "    # Convert numeric columns with commas and shorthand to float\n",
    "    def parse_numeric(value):\n",
    "        if isinstance(value, str):\n",
    "            if 'M' in value:\n",
    "                return float(value.replace('M', '')) * 1e6\n",
    "            elif 'K' in value:\n",
    "                return float(value.replace('K', '')) * 1e3\n",
    "            else:\n",
    "                return float(value.replace(',', ''))\n",
    "        return value\n",
    "\n",
    "    for column in ['Open', 'High', 'Low', 'Price', 'Vol.']:\n",
    "        if column in data.columns:\n",
    "            data[column] = data[column].apply(parse_numeric)\n",
    "\n",
    "    # Feature and target selection\n",
    "    features = data[['Open', 'High', 'Low', 'Vol.']]  # Adjust based on dataset\n",
    "    target = data['Price']\n",
    "\n",
    "    # Normalize the features\n",
    "    scaler = MinMaxScaler()\n",
    "    features_scaled = scaler.fit_transform(features)\n",
    "\n",
    "    # Train-test split\n",
    "    X_train, X_test, y_train, y_test = train_test_split(features_scaled, target, test_size=0.2, random_state=42)"
   ]
  },
  {
   "cell_type": "code",
   "execution_count": 20,
   "id": "31620854",
   "metadata": {},
   "outputs": [
    {
     "name": "stdout",
     "output_type": "stream",
     "text": [
      "Linear Regression Performance:\n",
      "Mean Squared Error: 3485.3430877131354\n",
      "R-squared: 0.17384460143096048\n",
      "\n",
      "Random Forest Performance:\n",
      "Mean Squared Error: 8282.171875\n",
      "R-squared: -0.9631814814814814\n",
      "\n",
      "SVR Performance:\n",
      "Mean Squared Error: 4745.61219598003\n",
      "R-squared: -0.12488585386193307\n",
      "\n",
      "Decision Tree Performance:\n",
      "Mean Squared Error: 7187.5\n",
      "R-squared: -0.7037037037037037\n",
      "\n",
      "Best Model: Linear Regression\n"
     ]
    },
    {
     "data": {
      "image/png": "[encoded data removed]",
      "text/plain": [
       "<Figure size 720x432 with 1 Axes>"
      ]
     },
     "metadata": {
      "needs_background": "light"
     },
     "output_type": "display_data"
    }
   ],
   "source": [
    "# model building\n",
    "if not data.empty:\n",
    "    # Linear Regression\n",
    "    lr_model = LinearRegression()\n",
    "    lr_model.fit(X_train, y_train)\n",
    "    lr_pred = lr_model.predict(X_test)\n",
    "\n",
    "    # Random Forest Regressor\n",
    "    rf_model = RandomForestRegressor(random_state=42)\n",
    "    rf_model.fit(X_train, y_train)\n",
    "    rf_pred = rf_model.predict(X_test)\n",
    "\n",
    "    # Support Vector Regressor\n",
    "    svr_model = SVR()\n",
    "    svr_model.fit(X_train, y_train)\n",
    "    svr_pred = svr_model.predict(X_test)\n",
    "\n",
    "    # Decision Tree Regressor\n",
    "    dt_model = DecisionTreeRegressor(random_state=42)\n",
    "    dt_model.fit(X_train, y_train)\n",
    "    dt_pred = dt_model.predict(X_test)\n",
    "\n",
    "    # Step 5: Evaluation\n",
    "    model_performance = {}\n",
    "    models = {'Linear Regression': lr_pred, 'Random Forest': rf_pred, 'SVR': svr_pred, 'Decision Tree': dt_pred}\n",
    "    for name, predictions in models.items():\n",
    "        mse = mean_squared_error(y_test, predictions)\n",
    "        r2 = r2_score(y_test, predictions)\n",
    "        model_performance[name] = {'MSE': mse, 'R2': r2}\n",
    "        print(f\"{name} Performance:\")\n",
    "        print(f\"Mean Squared Error: {mse}\")\n",
    "        print(f\"R-squared: {r2}\\n\")\n",
    "\n",
    "    # Identify the best model based on R-squared\n",
    "    best_model_name = max(model_performance, key=lambda x: model_performance[x]['R2'])\n",
    "    print(f\"Best Model: {best_model_name}\")\n",
    "\n",
    "    # Predict using the best model\n",
    "    if best_model_name == 'Linear Regression':\n",
    "        best_model = lr_model\n",
    "    elif best_model_name == 'Random Forest':\n",
    "        best_model = rf_model\n",
    "    elif best_model_name == 'SVR':\n",
    "        best_model = svr_model\n",
    "    elif best_model_name == 'Decision Tree':\n",
    "        best_model = dt_model\n",
    "\n",
    "    final_predictions = best_model.predict(X_test)\n",
    "\n",
    "    # Plot the best model's predictions\n",
    "    plt.figure(figsize=(10, 6))\n",
    "    plt.plot(y_test.values, label='Actual Prices', color='blue')\n",
    "    plt.plot(final_predictions, label='Predicted Prices', color='orange')\n",
    "    plt.title(f'Best Model ({best_model_name}) Predictions')\n",
    "    plt.xlabel('Samples')\n",
    "    plt.ylabel('Stock Price')\n",
    "    plt.legend()\n",
    "    plt.show()"
   ]
  },
  {
   "cell_type": "code",
   "execution_count": null,
   "id": "26ae7296",
   "metadata": {},
   "outputs": [],
   "source": []
  },
  {
   "cell_type": "code",
   "execution_count": null,
   "id": "11e51ab3",
   "metadata": {},
   "outputs": [],
   "source": []
  }
 ],
 "metadata": {
  "kernelspec": {
   "display_name": "Python 3 (ipykernel)",
   "language": "python",
   "name": "python3"
  },
  "language_info": {
   "codemirror_mode": {
    "name": "ipython",
    "version": 3
   },
   "file_extension": ".py",
   "mimetype": "text/x-python",
   "name": "python",
   "nbconvert_exporter": "python",
   "pygments_lexer": "ipython3",
   "version": "3.9.12"
  }
 },
 "nbformat": 4,
 "nbformat_minor": 5
}
